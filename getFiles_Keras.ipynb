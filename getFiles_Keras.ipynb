{
 "cells": [
  {
   "cell_type": "code",
   "execution_count": 1,
   "id": "725df17d",
   "metadata": {},
   "outputs": [
    {
     "name": "stdout",
     "output_type": "stream",
     "text": [
      "Collecting scikit-learn\n",
      "  Downloading scikit_learn-1.6.1-cp310-cp310-manylinux_2_17_x86_64.manylinux2014_x86_64.whl (13.5 MB)\n",
      "\u001b[2K     \u001b[90m━━━━━━━━━━━━━━━━━━━━━━━━━━━━━━━━━━━━━━━━\u001b[0m \u001b[32m13.5/13.5 MB\u001b[0m \u001b[31m78.7 MB/s\u001b[0m eta \u001b[36m0:00:00\u001b[0m00:01\u001b[0m0:01\u001b[0m\n",
      "Collecting glances\n",
      "  Downloading glances-4.3.1-py3-none-any.whl (908 kB)\n",
      "\u001b[2K     \u001b[90m━━━━━━━━━━━━━━━━━━━━━━━━━━━━━━━━━━━━━━\u001b[0m \u001b[32m908.6/908.6 KB\u001b[0m \u001b[31m11.1 MB/s\u001b[0m eta \u001b[36m0:00:00\u001b[0m00:01\u001b[0m00:01\u001b[0m\n",
      "Collecting nvidia-ml-py\n",
      "  Downloading nvidia_ml_py-12.575.51-py3-none-any.whl (47 kB)\n",
      "\u001b[2K     \u001b[90m━━━━━━━━━━━━━━━━━━━━━━━━━━━━━━━━━━━━━━━━\u001b[0m \u001b[32m47.5/47.5 KB\u001b[0m \u001b[31m6.3 MB/s\u001b[0m eta \u001b[36m0:00:00\u001b[0m\n",
      "Collecting pandas\n",
      "  Downloading pandas-2.2.3-cp310-cp310-manylinux_2_17_x86_64.manylinux2014_x86_64.whl (13.1 MB)\n",
      "\u001b[2K     \u001b[90m━━━━━━━━━━━━━━━━━━━━━━━━━━━━━━━━━━━━━━━━\u001b[0m \u001b[32m13.1/13.1 MB\u001b[0m \u001b[31m79.0 MB/s\u001b[0m eta \u001b[36m0:00:00\u001b[0m00:01\u001b[0m00:01\u001b[0m\n",
      "Collecting matplotlib\n",
      "  Downloading matplotlib-3.10.3-cp310-cp310-manylinux_2_17_x86_64.manylinux2014_x86_64.whl (8.6 MB)\n",
      "\u001b[2K     \u001b[90m━━━━━━━━━━━━━━━━━━━━━━━━━━━━━━━━━━━━━━━━\u001b[0m \u001b[32m8.6/8.6 MB\u001b[0m \u001b[31m95.5 MB/s\u001b[0m eta \u001b[36m0:00:00\u001b[0mta \u001b[36m0:00:01\u001b[0m\n",
      "Requirement already satisfied: tensorboard in /venv/main/lib/python3.10/site-packages (2.19.0)\n",
      "Collecting kaggle\n",
      "  Downloading kaggle-1.7.4.5-py3-none-any.whl (181 kB)\n",
      "\u001b[2K     \u001b[90m━━━━━━━━━━━━━━━━━━━━━━━━━━━━━━━━━━━━━━\u001b[0m \u001b[32m181.2/181.2 KB\u001b[0m \u001b[31m25.8 MB/s\u001b[0m eta \u001b[36m0:00:00\u001b[0m\n",
      "Requirement already satisfied: numpy>=1.19.5 in /venv/main/lib/python3.10/site-packages (from scikit-learn) (2.1.3)\n",
      "Collecting scipy>=1.6.0\n",
      "  Downloading scipy-1.15.3-cp310-cp310-manylinux_2_17_x86_64.manylinux2014_x86_64.whl (37.7 MB)\n",
      "\u001b[2K     \u001b[90m━━━━━━━━━━━━━━━━━━━━━━━━━━━━━━━━━━━━━━━━\u001b[0m \u001b[32m37.7/37.7 MB\u001b[0m \u001b[31m56.8 MB/s\u001b[0m eta \u001b[36m0:00:00\u001b[0m00:01\u001b[0m00:01\u001b[0m\n",
      "Collecting threadpoolctl>=3.1.0\n",
      "  Downloading threadpoolctl-3.6.0-py3-none-any.whl (18 kB)\n",
      "Collecting joblib>=1.2.0\n",
      "  Downloading joblib-1.5.1-py3-none-any.whl (307 kB)\n",
      "\u001b[2K     \u001b[90m━━━━━━━━━━━━━━━━━━━━━━━━━━━━━━━━━━━━━━\u001b[0m \u001b[32m307.7/307.7 KB\u001b[0m \u001b[31m47.8 MB/s\u001b[0m eta \u001b[36m0:00:00\u001b[0m\n",
      "Collecting defusedxml\n",
      "  Downloading defusedxml-0.7.1-py2.py3-none-any.whl (25 kB)\n",
      "Requirement already satisfied: packaging in /venv/main/lib/python3.10/site-packages (from glances) (24.2)\n",
      "Requirement already satisfied: psutil>=5.6.7 in /venv/main/lib/python3.10/site-packages (from glances) (7.0.0)\n",
      "Collecting tzdata>=2022.7\n",
      "  Downloading tzdata-2025.2-py2.py3-none-any.whl (347 kB)\n",
      "\u001b[2K     \u001b[90m━━━━━━━━━━━━━━━━━━━━━━━━━━━━━━━━━━━━━━\u001b[0m \u001b[32m347.8/347.8 KB\u001b[0m \u001b[31m55.3 MB/s\u001b[0m eta \u001b[36m0:00:00\u001b[0m\n",
      "\u001b[?25hRequirement already satisfied: python-dateutil>=2.8.2 in /venv/main/lib/python3.10/site-packages (from pandas) (2.9.0.post0)\n",
      "Collecting pytz>=2020.1\n",
      "  Using cached pytz-2025.2-py2.py3-none-any.whl (509 kB)\n",
      "Collecting contourpy>=1.0.1\n",
      "  Downloading contourpy-1.3.2-cp310-cp310-manylinux_2_17_x86_64.manylinux2014_x86_64.whl (325 kB)\n",
      "\u001b[2K     \u001b[90m━━━━━━━━━━━━━━━━━━━━━━━━━━━━━━━━━━━━━━\u001b[0m \u001b[32m325.0/325.0 KB\u001b[0m \u001b[31m46.2 MB/s\u001b[0m eta \u001b[36m0:00:00\u001b[0m\n",
      "Collecting pillow>=8\n",
      "  Using cached pillow-11.2.1-cp310-cp310-manylinux_2_28_x86_64.whl (4.6 MB)\n",
      "Collecting cycler>=0.10\n",
      "  Downloading cycler-0.12.1-py3-none-any.whl (8.3 kB)\n",
      "Collecting fonttools>=4.22.0\n",
      "  Using cached fonttools-4.58.0-cp310-cp310-manylinux_2_17_x86_64.manylinux2014_x86_64.whl (4.7 MB)\n",
      "Collecting kiwisolver>=1.3.1\n",
      "  Downloading kiwisolver-1.4.8-cp310-cp310-manylinux_2_12_x86_64.manylinux2010_x86_64.whl (1.6 MB)\n",
      "\u001b[2K     \u001b[90m━━━━━━━━━━━━━━━━━━━━━━━━━━━━━━━━━━━━━━━━\u001b[0m \u001b[32m1.6/1.6 MB\u001b[0m \u001b[31m87.2 MB/s\u001b[0m eta \u001b[36m0:00:00\u001b[0m\n",
      "Collecting pyparsing>=2.3.1\n",
      "  Downloading pyparsing-3.2.3-py3-none-any.whl (111 kB)\n",
      "\u001b[2K     \u001b[90m━━━━━━━━━━━━━━━━━━━━━━━━━━━━━━━━━━━━━━\u001b[0m \u001b[32m111.1/111.1 KB\u001b[0m \u001b[31m19.5 MB/s\u001b[0m eta \u001b[36m0:00:00\u001b[0m\n",
      "\u001b[?25hRequirement already satisfied: protobuf!=4.24.0,>=3.19.6 in /venv/main/lib/python3.10/site-packages (from tensorboard) (5.29.4)\n",
      "Requirement already satisfied: tensorboard-data-server<0.8.0,>=0.7.0 in /venv/main/lib/python3.10/site-packages (from tensorboard) (0.7.2)\n",
      "Requirement already satisfied: setuptools>=41.0.0 in /venv/main/lib/python3.10/site-packages (from tensorboard) (59.6.0)\n",
      "Requirement already satisfied: absl-py>=0.4 in /venv/main/lib/python3.10/site-packages (from tensorboard) (2.2.1)\n",
      "Requirement already satisfied: six>1.9 in /venv/main/lib/python3.10/site-packages (from tensorboard) (1.17.0)\n",
      "Requirement already satisfied: grpcio>=1.48.2 in /venv/main/lib/python3.10/site-packages (from tensorboard) (1.71.0)\n",
      "Requirement already satisfied: werkzeug>=1.0.1 in /venv/main/lib/python3.10/site-packages (from tensorboard) (3.1.3)\n",
      "Requirement already satisfied: markdown>=2.6.8 in /venv/main/lib/python3.10/site-packages (from tensorboard) (3.7)\n",
      "Requirement already satisfied: charset-normalizer in /venv/main/lib/python3.10/site-packages (from kaggle) (3.4.1)\n",
      "Requirement already satisfied: tqdm in /venv/main/lib/python3.10/site-packages (from kaggle) (4.67.1)\n",
      "Collecting bleach\n",
      "  Downloading bleach-6.2.0-py3-none-any.whl (163 kB)\n",
      "\u001b[2K     \u001b[90m━━━━━━━━━━━━━━━━━━━━━━━━━━━━━━━━━━━━━━\u001b[0m \u001b[32m163.4/163.4 KB\u001b[0m \u001b[31m28.2 MB/s\u001b[0m eta \u001b[36m0:00:00\u001b[0m\n",
      "Collecting webencodings\n",
      "  Downloading webencodings-0.5.1-py2.py3-none-any.whl (11 kB)\n",
      "Collecting text-unidecode\n",
      "  Downloading text_unidecode-1.3-py2.py3-none-any.whl (78 kB)\n",
      "\u001b[2K     \u001b[90m━━━━━━━━━━━━━━━━━━━━━━━━━━━━━━━━━━━━━━━━\u001b[0m \u001b[32m78.2/78.2 KB\u001b[0m \u001b[31m14.4 MB/s\u001b[0m eta \u001b[36m0:00:00\u001b[0m\n",
      "Collecting python-slugify\n",
      "  Downloading python_slugify-8.0.4-py2.py3-none-any.whl (10 kB)\n",
      "Requirement already satisfied: idna in /venv/main/lib/python3.10/site-packages (from kaggle) (3.10)\n",
      "Requirement already satisfied: requests in /venv/main/lib/python3.10/site-packages (from kaggle) (2.32.3)\n",
      "Requirement already satisfied: urllib3>=1.15.1 in /venv/main/lib/python3.10/site-packages (from kaggle) (2.3.0)\n",
      "Requirement already satisfied: certifi>=14.05.14 in /venv/main/lib/python3.10/site-packages (from kaggle) (2025.1.31)\n",
      "Requirement already satisfied: MarkupSafe>=2.1.1 in /venv/main/lib/python3.10/site-packages (from werkzeug>=1.0.1->tensorboard) (3.0.2)\n",
      "Installing collected packages: webencodings, text-unidecode, pytz, nvidia-ml-py, tzdata, threadpoolctl, scipy, python-slugify, pyparsing, pillow, kiwisolver, joblib, fonttools, defusedxml, cycler, contourpy, bleach, scikit-learn, pandas, matplotlib, kaggle, glances\n",
      "Successfully installed bleach-6.2.0 contourpy-1.3.2 cycler-0.12.1 defusedxml-0.7.1 fonttools-4.58.0 glances-4.3.1 joblib-1.5.1 kaggle-1.7.4.5 kiwisolver-1.4.8 matplotlib-3.10.3 nvidia-ml-py-12.575.51 pandas-2.2.3 pillow-11.2.1 pyparsing-3.2.3 python-slugify-8.0.4 pytz-2025.2 scikit-learn-1.6.1 scipy-1.15.3 text-unidecode-1.3 threadpoolctl-3.6.0 tzdata-2025.2 webencodings-0.5.1\n"
     ]
    }
   ],
   "source": [
    "! pip install scikit-learn glances nvidia-ml-py pandas matplotlib tensorboard kaggle"
   ]
  },
  {
   "cell_type": "code",
   "execution_count": 2,
   "id": "3c7dd4ef",
   "metadata": {},
   "outputs": [],
   "source": [
    "! mkdir ~/.kaggle\n",
    "! cp /workspace/kaggle.json ~/.kaggle/\n",
    "! chmod 600 ~/.kaggle/kaggle.json"
   ]
  },
  {
   "cell_type": "code",
   "execution_count": 3,
   "id": "4b5726d1",
   "metadata": {},
   "outputs": [
    {
     "name": "stdout",
     "output_type": "stream",
     "text": [
      "Dataset URL: https://www.kaggle.com/datasets/mariaherrerot/idrid-dataset\n",
      "License(s): unknown\n",
      "Downloading idrid-dataset.zip to /workspace/Uni Project\n",
      "  0%|                                                | 0.00/166M [00:00<?, ?B/s]\n",
      "100%|████████████████████████████████████████| 166M/166M [00:00<00:00, 2.08GB/s]\n"
     ]
    }
   ],
   "source": [
    "! kaggle datasets download mariaherrerot/idrid-dataset"
   ]
  },
  {
   "cell_type": "code",
   "execution_count": 4,
   "id": "8346bdb8",
   "metadata": {},
   "outputs": [
    {
     "name": "stdout",
     "output_type": "stream",
     "text": [
      "Dataset URL: https://www.kaggle.com/datasets/mariaherrerot/messidor2preprocess\n",
      "License(s): unknown\n",
      "Downloading messidor2preprocess.zip to /workspace/Uni Project\n",
      " 53%|█████████████████████                   | 201M/381M [00:00<00:00, 2.10GB/s]\n",
      "100%|████████████████████████████████████████| 381M/381M [00:00<00:00, 2.12GB/s]\n"
     ]
    }
   ],
   "source": [
    "! kaggle datasets download mariaherrerot/messidor2preprocess"
   ]
  },
  {
   "cell_type": "code",
   "execution_count": 5,
   "id": "71bcc764",
   "metadata": {},
   "outputs": [
    {
     "name": "stdout",
     "output_type": "stream",
     "text": [
      "Dataset URL: https://www.kaggle.com/datasets/mariaherrerot/aptos2019\n",
      "License(s): unknown\n",
      "Downloading aptos2019.zip to /workspace/Uni Project\n",
      " 99%|█████████████████████████████████████▋| 7.96G/8.01G [00:04<00:00, 1.68GB/s]\n",
      "100%|██████████████████████████████████████| 8.01G/8.01G [00:04<00:00, 1.99GB/s]\n"
     ]
    }
   ],
   "source": [
    "! kaggle datasets download mariaherrerot/aptos2019"
   ]
  },
  {
   "cell_type": "code",
   "execution_count": 6,
   "id": "7b39867c-05e5-4e5a-97e5-26eefe5aa98c",
   "metadata": {},
   "outputs": [
    {
     "name": "stdout",
     "output_type": "stream",
     "text": [
      "Collecting opencv-python\n",
      "  Downloading opencv_python-4.11.0.86-cp37-abi3-manylinux_2_17_x86_64.manylinux2014_x86_64.whl (63.0 MB)\n",
      "\u001b[2K     \u001b[90m━━━━━━━━━━━━━━━━━━━━━━━━━━━━━━━━━━━━━━━━\u001b[0m \u001b[32m63.0/63.0 MB\u001b[0m \u001b[31m42.9 MB/s\u001b[0m eta \u001b[36m0:00:00\u001b[0m00:01\u001b[0m00:01\u001b[0m\n",
      "Requirement already satisfied: numpy>=1.19.3 in /venv/main/lib/python3.10/site-packages (from opencv-python) (2.1.3)\n",
      "Installing collected packages: opencv-python\n",
      "Successfully installed opencv-python-4.11.0.86\n"
     ]
    }
   ],
   "source": [
    "! pip install opencv-python"
   ]
  },
  {
   "cell_type": "code",
   "execution_count": 9,
   "id": "df1128c2-188f-4a53-9cb1-91123e1440c8",
   "metadata": {},
   "outputs": [
    {
     "name": "stdout",
     "output_type": "stream",
     "text": [
      "Dataset URL: https://www.kaggle.com/datasets/benjaminwarner/resized-2015-2019-blindness-detection-images\n",
      "License(s): copyright-authors\n"
     ]
    }
   ],
   "source": [
    "! kaggle datasets download benjaminwarner/resized-2015-2019-blindness-detection-images"
   ]
  },
  {
   "cell_type": "code",
   "execution_count": null,
   "id": "22a4eeb3-2caa-460b-8936-818d1dce4515",
   "metadata": {},
   "outputs": [],
   "source": []
  }
 ],
 "metadata": {
  "kernelspec": {
   "display_name": "Python3 (ipykernel)",
   "language": "python",
   "name": "python3"
  },
  "language_info": {
   "codemirror_mode": {
    "name": "ipython",
    "version": 3
   },
   "file_extension": ".py",
   "mimetype": "text/x-python",
   "name": "python",
   "nbconvert_exporter": "python",
   "pygments_lexer": "ipython3",
   "version": "3.10.12"
  }
 },
 "nbformat": 4,
 "nbformat_minor": 5
}
