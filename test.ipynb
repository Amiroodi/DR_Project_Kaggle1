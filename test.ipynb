{
 "cells": [
  {
   "cell_type": "code",
   "execution_count": 114,
   "metadata": {},
   "outputs": [],
   "source": [
    "import torch\n",
    "import torchvision\n",
    "from torch import nn\n",
    "\n",
    "class OneHeadModel(nn.Module):\n",
    "    def __init__(self, device, p_dropout):\n",
    "        super(OneHeadModel, self).__init__()\n",
    "\n",
    "        self.device = device\n",
    "        self.p_dropout = p_dropout\n",
    "\n",
    "        # Load EfficientNet encoder\n",
    "        # weights = torchvision.models.EfficientNet_B1_Weights.DEFAULT\n",
    "        # efficientNet = torchvision.models.efficientnet_b1(weights=weights)\n",
    "        # self.encoder = efficientNet.features\n",
    "\n",
    "        # Load EfficientNet encoder\n",
    "        denseNet = torchvision.models.densenet121(weights='DEFAULT')\n",
    "        self.encoder = denseNet.features\n",
    "\n",
    "        # Pooling layers\n",
    "        self.global_avg_pool = nn.AdaptiveAvgPool2d(1)\n",
    "\n",
    "        # Classification head\n",
    "        self.classification_head = nn.Sequential(\n",
    "            nn.Dropout(p=self.p_dropout),\n",
    "            nn.Linear(1024, 5) # 5 output nodes for classification\n",
    "            )     \n",
    "\n",
    "    def forward(self, x):\n",
    "        x = self.encoder(x) # Extract features\n",
    "\n",
    "        # Apply pooling layers\n",
    "        enc_out = self.global_avg_pool(x).view(x.size(0), -1)\n",
    "\n",
    "        # Classification branch\n",
    "        class_out = self.classification_head(enc_out).float()\n",
    "\n",
    "        return class_out, enc_out\n"
   ]
  },
  {
   "cell_type": "code",
   "execution_count": 115,
   "metadata": {},
   "outputs": [],
   "source": [
    "model = OneHeadModel(device=torch.device, p_dropout=0.4)\n",
    "\n",
    "# model = torchvision.models.densenet121(weights='DEFAULT')\n",
    "# model = model.features"
   ]
  },
  {
   "cell_type": "code",
   "execution_count": 116,
   "metadata": {},
   "outputs": [],
   "source": [
    "from torchinfo import summary"
   ]
  },
  {
   "cell_type": "code",
   "execution_count": 117,
   "metadata": {},
   "outputs": [
    {
     "data": {
      "text/plain": [
       "=============================================================================================================================\n",
       "Layer (type (var_name))                       Input Shape          Output Shape         Param #              Trainable\n",
       "=============================================================================================================================\n",
       "OneHeadModel (OneHeadModel)                   [32, 3, 224, 224]    [32, 5]              --                   True\n",
       "├─Sequential (encoder)                        [32, 3, 224, 224]    [32, 1024, 7, 7]     --                   True\n",
       "│    └─Conv2d (conv0)                         [32, 3, 224, 224]    [32, 64, 112, 112]   9,408                True\n",
       "│    └─BatchNorm2d (norm0)                    [32, 64, 112, 112]   [32, 64, 112, 112]   128                  True\n",
       "│    └─ReLU (relu0)                           [32, 64, 112, 112]   [32, 64, 112, 112]   --                   --\n",
       "│    └─MaxPool2d (pool0)                      [32, 64, 112, 112]   [32, 64, 56, 56]     --                   --\n",
       "│    └─_DenseBlock (denseblock1)              [32, 64, 56, 56]     [32, 256, 56, 56]    --                   True\n",
       "│    │    └─_DenseLayer (denselayer1)         [32, 64, 56, 56]     [32, 32, 56, 56]     45,440               True\n",
       "│    │    └─_DenseLayer (denselayer2)         [32, 64, 56, 56]     [32, 32, 56, 56]     49,600               True\n",
       "│    │    └─_DenseLayer (denselayer3)         [32, 64, 56, 56]     [32, 32, 56, 56]     53,760               True\n",
       "│    │    └─_DenseLayer (denselayer4)         [32, 64, 56, 56]     [32, 32, 56, 56]     57,920               True\n",
       "│    │    └─_DenseLayer (denselayer5)         [32, 64, 56, 56]     [32, 32, 56, 56]     62,080               True\n",
       "│    │    └─_DenseLayer (denselayer6)         [32, 64, 56, 56]     [32, 32, 56, 56]     66,240               True\n",
       "│    └─_Transition (transition1)              [32, 256, 56, 56]    [32, 128, 28, 28]    --                   True\n",
       "│    │    └─BatchNorm2d (norm)                [32, 256, 56, 56]    [32, 256, 56, 56]    512                  True\n",
       "│    │    └─ReLU (relu)                       [32, 256, 56, 56]    [32, 256, 56, 56]    --                   --\n",
       "│    │    └─Conv2d (conv)                     [32, 256, 56, 56]    [32, 128, 56, 56]    32,768               True\n",
       "│    │    └─AvgPool2d (pool)                  [32, 128, 56, 56]    [32, 128, 28, 28]    --                   --\n",
       "│    └─_DenseBlock (denseblock2)              [32, 128, 28, 28]    [32, 512, 28, 28]    --                   True\n",
       "│    │    └─_DenseLayer (denselayer1)         [32, 128, 28, 28]    [32, 32, 28, 28]     53,760               True\n",
       "│    │    └─_DenseLayer (denselayer2)         [32, 128, 28, 28]    [32, 32, 28, 28]     57,920               True\n",
       "│    │    └─_DenseLayer (denselayer3)         [32, 128, 28, 28]    [32, 32, 28, 28]     62,080               True\n",
       "│    │    └─_DenseLayer (denselayer4)         [32, 128, 28, 28]    [32, 32, 28, 28]     66,240               True\n",
       "│    │    └─_DenseLayer (denselayer5)         [32, 128, 28, 28]    [32, 32, 28, 28]     70,400               True\n",
       "│    │    └─_DenseLayer (denselayer6)         [32, 128, 28, 28]    [32, 32, 28, 28]     74,560               True\n",
       "│    │    └─_DenseLayer (denselayer7)         [32, 128, 28, 28]    [32, 32, 28, 28]     78,720               True\n",
       "│    │    └─_DenseLayer (denselayer8)         [32, 128, 28, 28]    [32, 32, 28, 28]     82,880               True\n",
       "│    │    └─_DenseLayer (denselayer9)         [32, 128, 28, 28]    [32, 32, 28, 28]     87,040               True\n",
       "│    │    └─_DenseLayer (denselayer10)        [32, 128, 28, 28]    [32, 32, 28, 28]     91,200               True\n",
       "│    │    └─_DenseLayer (denselayer11)        [32, 128, 28, 28]    [32, 32, 28, 28]     95,360               True\n",
       "│    │    └─_DenseLayer (denselayer12)        [32, 128, 28, 28]    [32, 32, 28, 28]     99,520               True\n",
       "│    └─_Transition (transition2)              [32, 512, 28, 28]    [32, 256, 14, 14]    --                   True\n",
       "│    │    └─BatchNorm2d (norm)                [32, 512, 28, 28]    [32, 512, 28, 28]    1,024                True\n",
       "│    │    └─ReLU (relu)                       [32, 512, 28, 28]    [32, 512, 28, 28]    --                   --\n",
       "│    │    └─Conv2d (conv)                     [32, 512, 28, 28]    [32, 256, 28, 28]    131,072              True\n",
       "│    │    └─AvgPool2d (pool)                  [32, 256, 28, 28]    [32, 256, 14, 14]    --                   --\n",
       "│    └─_DenseBlock (denseblock3)              [32, 256, 14, 14]    [32, 1024, 14, 14]   --                   True\n",
       "│    │    └─_DenseLayer (denselayer1)         [32, 256, 14, 14]    [32, 32, 14, 14]     70,400               True\n",
       "│    │    └─_DenseLayer (denselayer2)         [32, 256, 14, 14]    [32, 32, 14, 14]     74,560               True\n",
       "│    │    └─_DenseLayer (denselayer3)         [32, 256, 14, 14]    [32, 32, 14, 14]     78,720               True\n",
       "│    │    └─_DenseLayer (denselayer4)         [32, 256, 14, 14]    [32, 32, 14, 14]     82,880               True\n",
       "│    │    └─_DenseLayer (denselayer5)         [32, 256, 14, 14]    [32, 32, 14, 14]     87,040               True\n",
       "│    │    └─_DenseLayer (denselayer6)         [32, 256, 14, 14]    [32, 32, 14, 14]     91,200               True\n",
       "│    │    └─_DenseLayer (denselayer7)         [32, 256, 14, 14]    [32, 32, 14, 14]     95,360               True\n",
       "│    │    └─_DenseLayer (denselayer8)         [32, 256, 14, 14]    [32, 32, 14, 14]     99,520               True\n",
       "│    │    └─_DenseLayer (denselayer9)         [32, 256, 14, 14]    [32, 32, 14, 14]     103,680              True\n",
       "│    │    └─_DenseLayer (denselayer10)        [32, 256, 14, 14]    [32, 32, 14, 14]     107,840              True\n",
       "│    │    └─_DenseLayer (denselayer11)        [32, 256, 14, 14]    [32, 32, 14, 14]     112,000              True\n",
       "│    │    └─_DenseLayer (denselayer12)        [32, 256, 14, 14]    [32, 32, 14, 14]     116,160              True\n",
       "│    │    └─_DenseLayer (denselayer13)        [32, 256, 14, 14]    [32, 32, 14, 14]     120,320              True\n",
       "│    │    └─_DenseLayer (denselayer14)        [32, 256, 14, 14]    [32, 32, 14, 14]     124,480              True\n",
       "│    │    └─_DenseLayer (denselayer15)        [32, 256, 14, 14]    [32, 32, 14, 14]     128,640              True\n",
       "│    │    └─_DenseLayer (denselayer16)        [32, 256, 14, 14]    [32, 32, 14, 14]     132,800              True\n",
       "│    │    └─_DenseLayer (denselayer17)        [32, 256, 14, 14]    [32, 32, 14, 14]     136,960              True\n",
       "│    │    └─_DenseLayer (denselayer18)        [32, 256, 14, 14]    [32, 32, 14, 14]     141,120              True\n",
       "│    │    └─_DenseLayer (denselayer19)        [32, 256, 14, 14]    [32, 32, 14, 14]     145,280              True\n",
       "│    │    └─_DenseLayer (denselayer20)        [32, 256, 14, 14]    [32, 32, 14, 14]     149,440              True\n",
       "│    │    └─_DenseLayer (denselayer21)        [32, 256, 14, 14]    [32, 32, 14, 14]     153,600              True\n",
       "│    │    └─_DenseLayer (denselayer22)        [32, 256, 14, 14]    [32, 32, 14, 14]     157,760              True\n",
       "│    │    └─_DenseLayer (denselayer23)        [32, 256, 14, 14]    [32, 32, 14, 14]     161,920              True\n",
       "│    │    └─_DenseLayer (denselayer24)        [32, 256, 14, 14]    [32, 32, 14, 14]     166,080              True\n",
       "│    └─_Transition (transition3)              [32, 1024, 14, 14]   [32, 512, 7, 7]      --                   True\n",
       "│    │    └─BatchNorm2d (norm)                [32, 1024, 14, 14]   [32, 1024, 14, 14]   2,048                True\n",
       "│    │    └─ReLU (relu)                       [32, 1024, 14, 14]   [32, 1024, 14, 14]   --                   --\n",
       "│    │    └─Conv2d (conv)                     [32, 1024, 14, 14]   [32, 512, 14, 14]    524,288              True\n",
       "│    │    └─AvgPool2d (pool)                  [32, 512, 14, 14]    [32, 512, 7, 7]      --                   --\n",
       "│    └─_DenseBlock (denseblock4)              [32, 512, 7, 7]      [32, 1024, 7, 7]     --                   True\n",
       "│    │    └─_DenseLayer (denselayer1)         [32, 512, 7, 7]      [32, 32, 7, 7]       103,680              True\n",
       "│    │    └─_DenseLayer (denselayer2)         [32, 512, 7, 7]      [32, 32, 7, 7]       107,840              True\n",
       "│    │    └─_DenseLayer (denselayer3)         [32, 512, 7, 7]      [32, 32, 7, 7]       112,000              True\n",
       "│    │    └─_DenseLayer (denselayer4)         [32, 512, 7, 7]      [32, 32, 7, 7]       116,160              True\n",
       "│    │    └─_DenseLayer (denselayer5)         [32, 512, 7, 7]      [32, 32, 7, 7]       120,320              True\n",
       "│    │    └─_DenseLayer (denselayer6)         [32, 512, 7, 7]      [32, 32, 7, 7]       124,480              True\n",
       "│    │    └─_DenseLayer (denselayer7)         [32, 512, 7, 7]      [32, 32, 7, 7]       128,640              True\n",
       "│    │    └─_DenseLayer (denselayer8)         [32, 512, 7, 7]      [32, 32, 7, 7]       132,800              True\n",
       "│    │    └─_DenseLayer (denselayer9)         [32, 512, 7, 7]      [32, 32, 7, 7]       136,960              True\n",
       "│    │    └─_DenseLayer (denselayer10)        [32, 512, 7, 7]      [32, 32, 7, 7]       141,120              True\n",
       "│    │    └─_DenseLayer (denselayer11)        [32, 512, 7, 7]      [32, 32, 7, 7]       145,280              True\n",
       "│    │    └─_DenseLayer (denselayer12)        [32, 512, 7, 7]      [32, 32, 7, 7]       149,440              True\n",
       "│    │    └─_DenseLayer (denselayer13)        [32, 512, 7, 7]      [32, 32, 7, 7]       153,600              True\n",
       "│    │    └─_DenseLayer (denselayer14)        [32, 512, 7, 7]      [32, 32, 7, 7]       157,760              True\n",
       "│    │    └─_DenseLayer (denselayer15)        [32, 512, 7, 7]      [32, 32, 7, 7]       161,920              True\n",
       "│    │    └─_DenseLayer (denselayer16)        [32, 512, 7, 7]      [32, 32, 7, 7]       166,080              True\n",
       "│    └─BatchNorm2d (norm5)                    [32, 1024, 7, 7]     [32, 1024, 7, 7]     2,048                True\n",
       "├─AdaptiveAvgPool2d (global_avg_pool)         [32, 1024, 7, 7]     [32, 1024, 1, 1]     --                   --\n",
       "├─Sequential (classification_head)            [32, 1024]           [32, 5]              --                   True\n",
       "│    └─Dropout (0)                            [32, 1024]           [32, 1024]           --                   --\n",
       "│    └─Linear (1)                             [32, 1024]           [32, 5]              5,125                True\n",
       "=============================================================================================================================\n",
       "Total params: 6,958,981\n",
       "Trainable params: 6,958,981\n",
       "Non-trainable params: 0\n",
       "Total mult-adds (Units.GIGABYTES): 90.66\n",
       "=============================================================================================================================\n",
       "Input size (MB): 19.27\n",
       "Forward/backward pass size (MB): 5777.07\n",
       "Params size (MB): 27.84\n",
       "Estimated Total Size (MB): 5824.17\n",
       "============================================================================================================================="
      ]
     },
     "execution_count": 117,
     "metadata": {},
     "output_type": "execute_result"
    }
   ],
   "source": [
    "# Print a summary using torchinfo (uncomment for actual output)\n",
    "torch.manual_seed(33)\n",
    "summary(model=model, \n",
    "        input_size=(32, 3, 224, 224), # make sure this is \"input_size\", not \"input_shape\"\n",
    "        col_names=[\"input_size\", \"output_size\", \"num_params\", \"trainable\"],\n",
    "        col_width=20,\n",
    "        row_settings=[\"var_names\"]\n",
    ") "
   ]
  },
  {
   "cell_type": "code",
   "execution_count": 84,
   "metadata": {},
   "outputs": [],
   "source": [
    "def ordinal_labels(y, num_classes):\n",
    "    \"\"\"Convert labels to cumulative one-hot encoding\"\"\"\n",
    "    y_cumulative = torch.zeros(len(y), num_classes)\n",
    "    for i in range(num_classes):\n",
    "        y_cumulative[:, i] = (y >= i).float()\n",
    "    return y_cumulative"
   ]
  },
  {
   "cell_type": "code",
   "execution_count": 107,
   "metadata": {},
   "outputs": [],
   "source": [
    "y = torch.tensor([2, 3, 1, 0, 1, 4])\n",
    "ord_out = torch.tensor([[3, 5, 1, -7, -6], [8, -4, -3, -10, -3]])"
   ]
  },
  {
   "cell_type": "code",
   "execution_count": 108,
   "metadata": {},
   "outputs": [
    {
     "data": {
      "text/plain": [
       "tensor([[1., 1., 1., 0., 0.],\n",
       "        [1., 1., 1., 1., 0.],\n",
       "        [1., 1., 0., 0., 0.],\n",
       "        [1., 0., 0., 0., 0.],\n",
       "        [1., 1., 0., 0., 0.],\n",
       "        [1., 1., 1., 1., 1.]])"
      ]
     },
     "execution_count": 108,
     "metadata": {},
     "output_type": "execute_result"
    }
   ],
   "source": [
    "ordinal_labels(y, 5)"
   ]
  },
  {
   "cell_type": "code",
   "execution_count": 109,
   "metadata": {},
   "outputs": [
    {
     "data": {
      "text/plain": [
       "tensor([[9.5257e-01, 9.9331e-01, 7.3106e-01, 9.1105e-04, 2.4726e-03],\n",
       "        [9.9966e-01, 1.7986e-02, 4.7426e-02, 4.5398e-05, 4.7426e-02]])"
      ]
     },
     "execution_count": 109,
     "metadata": {},
     "output_type": "execute_result"
    }
   ],
   "source": [
    "torch.sigmoid(ord_out)"
   ]
  },
  {
   "cell_type": "code",
   "execution_count": 112,
   "metadata": {},
   "outputs": [],
   "source": [
    "y_pred_ord = torch.sum(torch.round(torch.sigmoid(ord_out)), dim=1, keepdim=True).squeeze(dim=1) -1 \n"
   ]
  },
  {
   "cell_type": "code",
   "execution_count": 113,
   "metadata": {},
   "outputs": [
    {
     "data": {
      "text/plain": [
       "tensor([2., 0.])"
      ]
     },
     "execution_count": 113,
     "metadata": {},
     "output_type": "execute_result"
    }
   ],
   "source": [
    "y_pred_ord"
   ]
  },
  {
   "cell_type": "code",
   "execution_count": 75,
   "metadata": {},
   "outputs": [
    {
     "name": "stdout",
     "output_type": "stream",
     "text": [
      "Original y_train: [0 1 1 0 0]\n",
      "Multilabel version: [2 2 1 0 0]\n"
     ]
    }
   ],
   "source": [
    "import numpy as np\n",
    "\n",
    "y_train = np.array([[0, 0, 1, 0, 0], [0, 1, 0, 0, 0]])\n",
    "y_train_multi = np.empty(y_train.shape, dtype=y_train.dtype)\n",
    "y_train_multi[:, 4] = y_train[:, 4]\n",
    "\n",
    "for i in range(3, -1, -1):\n",
    "    y_train_multi[:, i] = np.logical_or(y_train[:, i], y_train_multi[:, i+1])\n",
    "\n",
    "print(\"Original y_train:\", y_train.sum(axis=0))\n",
    "print(\"Multilabel version:\", y_train_multi.sum(axis=0))"
   ]
  },
  {
   "cell_type": "code",
   "execution_count": 76,
   "metadata": {},
   "outputs": [
    {
     "name": "stdout",
     "output_type": "stream",
     "text": [
      "Original y_train: [[0 0 1 0 0]\n",
      " [0 1 0 0 0]]\n",
      "Multilabel version: [[1 1 1 0 0]\n",
      " [1 1 0 0 0]]\n"
     ]
    }
   ],
   "source": [
    "print(\"Original y_train:\", y_train)\n",
    "print(\"Multilabel version:\", y_train_multi)"
   ]
  },
  {
   "cell_type": "code",
   "execution_count": null,
   "metadata": {},
   "outputs": [],
   "source": []
  }
 ],
 "metadata": {
  "kernelspec": {
   "display_name": "Python 3",
   "language": "python",
   "name": "python3"
  },
  "language_info": {
   "codemirror_mode": {
    "name": "ipython",
    "version": 3
   },
   "file_extension": ".py",
   "mimetype": "text/x-python",
   "name": "python",
   "nbconvert_exporter": "python",
   "pygments_lexer": "ipython3",
   "version": "3.11.9"
  }
 },
 "nbformat": 4,
 "nbformat_minor": 2
}
