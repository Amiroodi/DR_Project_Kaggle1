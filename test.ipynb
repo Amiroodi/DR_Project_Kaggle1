{
 "cells": [
  {
   "cell_type": "code",
   "execution_count": 72,
   "metadata": {},
   "outputs": [],
   "source": [
    "import torch\n",
    "import torchvision\n",
    "from torch import nn\n",
    "\n",
    "class OneHeadModel(nn.Module):\n",
    "    def __init__(self, device, p_dropout):\n",
    "        super(OneHeadModel, self).__init__()\n",
    "\n",
    "        self.device = device\n",
    "        self.p_dropout = p_dropout\n",
    "\n",
    "        # Load EfficientNet encoder\n",
    "        # weights = torchvision.models.EfficientNet_B1_Weights.DEFAULT\n",
    "        # efficientNet = torchvision.models.efficientnet_b1(weights=weights)\n",
    "        # self.encoder = efficientNet.features\n",
    "\n",
    "        # Load EfficientNet encoder\n",
    "        # denseNet = torchvision.models.densenet121(weights='DEFAULT')\n",
    "        # self.encoder = denseNet.features\n",
    "\n",
    "        # Load EfficientNet encoder\n",
    "        efficientNet = torchvision.models.efficientnet_b4(weights='DEFAULT')\n",
    "        self.encoder = efficientNet.features\n",
    "\n",
    "        # Pooling layers\n",
    "        self.global_avg_pool = nn.AdaptiveAvgPool2d(1)\n",
    "\n",
    "        # Classification head\n",
    "        self.classification_head = nn.Sequential(\n",
    "            nn.Dropout(p=self.p_dropout),\n",
    "            nn.Linear(1792, 5) # 5 output nodes for classification\n",
    "            )     \n",
    "\n",
    "    def forward(self, x):\n",
    "        x = self.encoder(x) # Extract features\n",
    "\n",
    "        # Apply pooling layers\n",
    "        enc_out = self.global_avg_pool(x).view(x.size(0), -1)\n",
    "\n",
    "        # Classification branch\n",
    "        class_out = self.classification_head(enc_out).float()\n",
    "\n",
    "        return class_out, enc_out\n"
   ]
  },
  {
   "cell_type": "code",
   "execution_count": 81,
   "metadata": {},
   "outputs": [],
   "source": [
    "# model = OneHeadModel(device=torch.device, p_dropout=0.4)\n",
    "\n",
    "model = torchvision.models.densenet161(weights='DEFAULT')"
   ]
  },
  {
   "cell_type": "code",
   "execution_count": 82,
   "metadata": {},
   "outputs": [],
   "source": [
    "from torchinfo import summary"
   ]
  },
  {
   "cell_type": "code",
   "execution_count": 119,
   "metadata": {},
   "outputs": [],
   "source": [
    "for param in model.parameters():\n",
    "    param.requires_grad = True"
   ]
  },
  {
   "cell_type": "code",
   "execution_count": 123,
   "metadata": {},
   "outputs": [],
   "source": [
    "for name, child in list(model.features.named_children())[:9]:\n",
    "    for param in child.parameters():\n",
    "        param.requires_grad = False"
   ]
  },
  {
   "cell_type": "code",
   "execution_count": 124,
   "metadata": {},
   "outputs": [],
   "source": [
    "# for param in model.encoder.denseblock4.parameters():\n",
    "#     param.requires_grad = True"
   ]
  },
  {
   "cell_type": "code",
   "execution_count": 125,
   "metadata": {},
   "outputs": [
    {
     "data": {
      "text/plain": [
       "=============================================================================================================================\n",
       "Layer (type (var_name))                       Input Shape          Output Shape         Param #              Trainable\n",
       "=============================================================================================================================\n",
       "DenseNet (DenseNet)                           [32, 3, 224, 224]    [32, 1000]           --                   Partial\n",
       "├─Sequential (features)                       [32, 3, 224, 224]    [32, 2208, 7, 7]     --                   Partial\n",
       "│    └─Conv2d (conv0)                         [32, 3, 224, 224]    [32, 96, 112, 112]   (14,112)             False\n",
       "│    └─BatchNorm2d (norm0)                    [32, 96, 112, 112]   [32, 96, 112, 112]   (192)                False\n",
       "│    └─ReLU (relu0)                           [32, 96, 112, 112]   [32, 96, 112, 112]   --                   --\n",
       "│    └─MaxPool2d (pool0)                      [32, 96, 112, 112]   [32, 96, 56, 56]     --                   --\n",
       "│    └─_DenseBlock (denseblock1)              [32, 96, 56, 56]     [32, 384, 56, 56]    --                   False\n",
       "│    │    └─_DenseLayer (denselayer1)         [32, 96, 56, 56]     [32, 48, 56, 56]     (101,952)            False\n",
       "│    │    └─_DenseLayer (denselayer2)         [32, 96, 56, 56]     [32, 48, 56, 56]     (111,264)            False\n",
       "│    │    └─_DenseLayer (denselayer3)         [32, 96, 56, 56]     [32, 48, 56, 56]     (120,576)            False\n",
       "│    │    └─_DenseLayer (denselayer4)         [32, 96, 56, 56]     [32, 48, 56, 56]     (129,888)            False\n",
       "│    │    └─_DenseLayer (denselayer5)         [32, 96, 56, 56]     [32, 48, 56, 56]     (139,200)            False\n",
       "│    │    └─_DenseLayer (denselayer6)         [32, 96, 56, 56]     [32, 48, 56, 56]     (148,512)            False\n",
       "│    └─_Transition (transition1)              [32, 384, 56, 56]    [32, 192, 28, 28]    --                   False\n",
       "│    │    └─BatchNorm2d (norm)                [32, 384, 56, 56]    [32, 384, 56, 56]    (768)                False\n",
       "│    │    └─ReLU (relu)                       [32, 384, 56, 56]    [32, 384, 56, 56]    --                   --\n",
       "│    │    └─Conv2d (conv)                     [32, 384, 56, 56]    [32, 192, 56, 56]    (73,728)             False\n",
       "│    │    └─AvgPool2d (pool)                  [32, 192, 56, 56]    [32, 192, 28, 28]    --                   --\n",
       "│    └─_DenseBlock (denseblock2)              [32, 192, 28, 28]    [32, 768, 28, 28]    --                   False\n",
       "│    │    └─_DenseLayer (denselayer1)         [32, 192, 28, 28]    [32, 48, 28, 28]     (120,576)            False\n",
       "│    │    └─_DenseLayer (denselayer2)         [32, 192, 28, 28]    [32, 48, 28, 28]     (129,888)            False\n",
       "│    │    └─_DenseLayer (denselayer3)         [32, 192, 28, 28]    [32, 48, 28, 28]     (139,200)            False\n",
       "│    │    └─_DenseLayer (denselayer4)         [32, 192, 28, 28]    [32, 48, 28, 28]     (148,512)            False\n",
       "│    │    └─_DenseLayer (denselayer5)         [32, 192, 28, 28]    [32, 48, 28, 28]     (157,824)            False\n",
       "│    │    └─_DenseLayer (denselayer6)         [32, 192, 28, 28]    [32, 48, 28, 28]     (167,136)            False\n",
       "│    │    └─_DenseLayer (denselayer7)         [32, 192, 28, 28]    [32, 48, 28, 28]     (176,448)            False\n",
       "│    │    └─_DenseLayer (denselayer8)         [32, 192, 28, 28]    [32, 48, 28, 28]     (185,760)            False\n",
       "│    │    └─_DenseLayer (denselayer9)         [32, 192, 28, 28]    [32, 48, 28, 28]     (195,072)            False\n",
       "│    │    └─_DenseLayer (denselayer10)        [32, 192, 28, 28]    [32, 48, 28, 28]     (204,384)            False\n",
       "│    │    └─_DenseLayer (denselayer11)        [32, 192, 28, 28]    [32, 48, 28, 28]     (213,696)            False\n",
       "│    │    └─_DenseLayer (denselayer12)        [32, 192, 28, 28]    [32, 48, 28, 28]     (223,008)            False\n",
       "│    └─_Transition (transition2)              [32, 768, 28, 28]    [32, 384, 14, 14]    --                   False\n",
       "│    │    └─BatchNorm2d (norm)                [32, 768, 28, 28]    [32, 768, 28, 28]    (1,536)              False\n",
       "│    │    └─ReLU (relu)                       [32, 768, 28, 28]    [32, 768, 28, 28]    --                   --\n",
       "│    │    └─Conv2d (conv)                     [32, 768, 28, 28]    [32, 384, 28, 28]    (294,912)            False\n",
       "│    │    └─AvgPool2d (pool)                  [32, 384, 28, 28]    [32, 384, 14, 14]    --                   --\n",
       "│    └─_DenseBlock (denseblock3)              [32, 384, 14, 14]    [32, 2112, 14, 14]   --                   False\n",
       "│    │    └─_DenseLayer (denselayer1)         [32, 384, 14, 14]    [32, 48, 14, 14]     (157,824)            False\n",
       "│    │    └─_DenseLayer (denselayer2)         [32, 384, 14, 14]    [32, 48, 14, 14]     (167,136)            False\n",
       "│    │    └─_DenseLayer (denselayer3)         [32, 384, 14, 14]    [32, 48, 14, 14]     (176,448)            False\n",
       "│    │    └─_DenseLayer (denselayer4)         [32, 384, 14, 14]    [32, 48, 14, 14]     (185,760)            False\n",
       "│    │    └─_DenseLayer (denselayer5)         [32, 384, 14, 14]    [32, 48, 14, 14]     (195,072)            False\n",
       "│    │    └─_DenseLayer (denselayer6)         [32, 384, 14, 14]    [32, 48, 14, 14]     (204,384)            False\n",
       "│    │    └─_DenseLayer (denselayer7)         [32, 384, 14, 14]    [32, 48, 14, 14]     (213,696)            False\n",
       "│    │    └─_DenseLayer (denselayer8)         [32, 384, 14, 14]    [32, 48, 14, 14]     (223,008)            False\n",
       "│    │    └─_DenseLayer (denselayer9)         [32, 384, 14, 14]    [32, 48, 14, 14]     (232,320)            False\n",
       "│    │    └─_DenseLayer (denselayer10)        [32, 384, 14, 14]    [32, 48, 14, 14]     (241,632)            False\n",
       "│    │    └─_DenseLayer (denselayer11)        [32, 384, 14, 14]    [32, 48, 14, 14]     (250,944)            False\n",
       "│    │    └─_DenseLayer (denselayer12)        [32, 384, 14, 14]    [32, 48, 14, 14]     (260,256)            False\n",
       "│    │    └─_DenseLayer (denselayer13)        [32, 384, 14, 14]    [32, 48, 14, 14]     (269,568)            False\n",
       "│    │    └─_DenseLayer (denselayer14)        [32, 384, 14, 14]    [32, 48, 14, 14]     (278,880)            False\n",
       "│    │    └─_DenseLayer (denselayer15)        [32, 384, 14, 14]    [32, 48, 14, 14]     (288,192)            False\n",
       "│    │    └─_DenseLayer (denselayer16)        [32, 384, 14, 14]    [32, 48, 14, 14]     (297,504)            False\n",
       "│    │    └─_DenseLayer (denselayer17)        [32, 384, 14, 14]    [32, 48, 14, 14]     (306,816)            False\n",
       "│    │    └─_DenseLayer (denselayer18)        [32, 384, 14, 14]    [32, 48, 14, 14]     (316,128)            False\n",
       "│    │    └─_DenseLayer (denselayer19)        [32, 384, 14, 14]    [32, 48, 14, 14]     (325,440)            False\n",
       "│    │    └─_DenseLayer (denselayer20)        [32, 384, 14, 14]    [32, 48, 14, 14]     (334,752)            False\n",
       "│    │    └─_DenseLayer (denselayer21)        [32, 384, 14, 14]    [32, 48, 14, 14]     (344,064)            False\n",
       "│    │    └─_DenseLayer (denselayer22)        [32, 384, 14, 14]    [32, 48, 14, 14]     (353,376)            False\n",
       "│    │    └─_DenseLayer (denselayer23)        [32, 384, 14, 14]    [32, 48, 14, 14]     (362,688)            False\n",
       "│    │    └─_DenseLayer (denselayer24)        [32, 384, 14, 14]    [32, 48, 14, 14]     (372,000)            False\n",
       "│    │    └─_DenseLayer (denselayer25)        [32, 384, 14, 14]    [32, 48, 14, 14]     (381,312)            False\n",
       "│    │    └─_DenseLayer (denselayer26)        [32, 384, 14, 14]    [32, 48, 14, 14]     (390,624)            False\n",
       "│    │    └─_DenseLayer (denselayer27)        [32, 384, 14, 14]    [32, 48, 14, 14]     (399,936)            False\n",
       "│    │    └─_DenseLayer (denselayer28)        [32, 384, 14, 14]    [32, 48, 14, 14]     (409,248)            False\n",
       "│    │    └─_DenseLayer (denselayer29)        [32, 384, 14, 14]    [32, 48, 14, 14]     (418,560)            False\n",
       "│    │    └─_DenseLayer (denselayer30)        [32, 384, 14, 14]    [32, 48, 14, 14]     (427,872)            False\n",
       "│    │    └─_DenseLayer (denselayer31)        [32, 384, 14, 14]    [32, 48, 14, 14]     (437,184)            False\n",
       "│    │    └─_DenseLayer (denselayer32)        [32, 384, 14, 14]    [32, 48, 14, 14]     (446,496)            False\n",
       "│    │    └─_DenseLayer (denselayer33)        [32, 384, 14, 14]    [32, 48, 14, 14]     (455,808)            False\n",
       "│    │    └─_DenseLayer (denselayer34)        [32, 384, 14, 14]    [32, 48, 14, 14]     (465,120)            False\n",
       "│    │    └─_DenseLayer (denselayer35)        [32, 384, 14, 14]    [32, 48, 14, 14]     (474,432)            False\n",
       "│    │    └─_DenseLayer (denselayer36)        [32, 384, 14, 14]    [32, 48, 14, 14]     (483,744)            False\n",
       "│    └─_Transition (transition3)              [32, 2112, 14, 14]   [32, 1056, 7, 7]     --                   True\n",
       "│    │    └─BatchNorm2d (norm)                [32, 2112, 14, 14]   [32, 2112, 14, 14]   4,224                True\n",
       "│    │    └─ReLU (relu)                       [32, 2112, 14, 14]   [32, 2112, 14, 14]   --                   --\n",
       "│    │    └─Conv2d (conv)                     [32, 2112, 14, 14]   [32, 1056, 14, 14]   2,230,272            True\n",
       "│    │    └─AvgPool2d (pool)                  [32, 1056, 14, 14]   [32, 1056, 7, 7]     --                   --\n",
       "│    └─_DenseBlock (denseblock4)              [32, 1056, 7, 7]     [32, 2208, 7, 7]     --                   True\n",
       "│    │    └─_DenseLayer (denselayer1)         [32, 1056, 7, 7]     [32, 48, 7, 7]       288,192              True\n",
       "│    │    └─_DenseLayer (denselayer2)         [32, 1056, 7, 7]     [32, 48, 7, 7]       297,504              True\n",
       "│    │    └─_DenseLayer (denselayer3)         [32, 1056, 7, 7]     [32, 48, 7, 7]       306,816              True\n",
       "│    │    └─_DenseLayer (denselayer4)         [32, 1056, 7, 7]     [32, 48, 7, 7]       316,128              True\n",
       "│    │    └─_DenseLayer (denselayer5)         [32, 1056, 7, 7]     [32, 48, 7, 7]       325,440              True\n",
       "│    │    └─_DenseLayer (denselayer6)         [32, 1056, 7, 7]     [32, 48, 7, 7]       334,752              True\n",
       "│    │    └─_DenseLayer (denselayer7)         [32, 1056, 7, 7]     [32, 48, 7, 7]       344,064              True\n",
       "│    │    └─_DenseLayer (denselayer8)         [32, 1056, 7, 7]     [32, 48, 7, 7]       353,376              True\n",
       "│    │    └─_DenseLayer (denselayer9)         [32, 1056, 7, 7]     [32, 48, 7, 7]       362,688              True\n",
       "│    │    └─_DenseLayer (denselayer10)        [32, 1056, 7, 7]     [32, 48, 7, 7]       372,000              True\n",
       "│    │    └─_DenseLayer (denselayer11)        [32, 1056, 7, 7]     [32, 48, 7, 7]       381,312              True\n",
       "│    │    └─_DenseLayer (denselayer12)        [32, 1056, 7, 7]     [32, 48, 7, 7]       390,624              True\n",
       "│    │    └─_DenseLayer (denselayer13)        [32, 1056, 7, 7]     [32, 48, 7, 7]       399,936              True\n",
       "│    │    └─_DenseLayer (denselayer14)        [32, 1056, 7, 7]     [32, 48, 7, 7]       409,248              True\n",
       "│    │    └─_DenseLayer (denselayer15)        [32, 1056, 7, 7]     [32, 48, 7, 7]       418,560              True\n",
       "│    │    └─_DenseLayer (denselayer16)        [32, 1056, 7, 7]     [32, 48, 7, 7]       427,872              True\n",
       "│    │    └─_DenseLayer (denselayer17)        [32, 1056, 7, 7]     [32, 48, 7, 7]       437,184              True\n",
       "│    │    └─_DenseLayer (denselayer18)        [32, 1056, 7, 7]     [32, 48, 7, 7]       446,496              True\n",
       "│    │    └─_DenseLayer (denselayer19)        [32, 1056, 7, 7]     [32, 48, 7, 7]       455,808              True\n",
       "│    │    └─_DenseLayer (denselayer20)        [32, 1056, 7, 7]     [32, 48, 7, 7]       465,120              True\n",
       "│    │    └─_DenseLayer (denselayer21)        [32, 1056, 7, 7]     [32, 48, 7, 7]       474,432              True\n",
       "│    │    └─_DenseLayer (denselayer22)        [32, 1056, 7, 7]     [32, 48, 7, 7]       483,744              True\n",
       "│    │    └─_DenseLayer (denselayer23)        [32, 1056, 7, 7]     [32, 48, 7, 7]       493,056              True\n",
       "│    │    └─_DenseLayer (denselayer24)        [32, 1056, 7, 7]     [32, 48, 7, 7]       502,368              True\n",
       "│    └─BatchNorm2d (norm5)                    [32, 2208, 7, 7]     [32, 2208, 7, 7]     4,416                True\n",
       "├─Linear (classifier)                         [32, 2208]           [32, 1000]           2,209,000            True\n",
       "=============================================================================================================================\n",
       "Total params: 28,681,000\n",
       "Trainable params: 13,934,632\n",
       "Non-trainable params: 14,746,368\n",
       "Total mult-adds (Units.GIGABYTES): 247.30\n",
       "=============================================================================================================================\n",
       "Input size (MB): 19.27\n",
       "Forward/backward pass size (MB): 10362.60\n",
       "Params size (MB): 114.72\n",
       "Estimated Total Size (MB): 10496.60\n",
       "============================================================================================================================="
      ]
     },
     "execution_count": 125,
     "metadata": {},
     "output_type": "execute_result"
    }
   ],
   "source": [
    "# Print a summary using torchinfo (uncomment for actual output)\n",
    "torch.manual_seed(33)\n",
    "summary(model=model, \n",
    "        input_size=(32, 3, 224, 224), # make sure this is \"input_size\", not \"input_shape\"\n",
    "        col_names=[\"input_size\", \"output_size\", \"num_params\", \"trainable\"],\n",
    "        col_width=20,\n",
    "        row_settings=[\"var_names\"]\n",
    ") "
   ]
  },
  {
   "cell_type": "code",
   "execution_count": 116,
   "metadata": {},
   "outputs": [],
   "source": [
    "def ordinal_labels(y, num_classes):\n",
    "    \"\"\"Convert labels to cumulative one-hot encoding\"\"\"\n",
    "    y_cumulative = torch.zeros(len(y), num_classes)\n",
    "    for i in range(num_classes):\n",
    "        y_cumulative[:, i] = (y >= i).float()\n",
    "    return y_cumulative"
   ]
  },
  {
   "cell_type": "code",
   "execution_count": 107,
   "metadata": {},
   "outputs": [],
   "source": [
    "y = torch.tensor([2, 3, 1, 0, 1, 4])\n",
    "ord_out = torch.tensor([[3, 5, 1, -7, -6], [8, -4, -3, -10, -3]])"
   ]
  },
  {
   "cell_type": "code",
   "execution_count": 108,
   "metadata": {},
   "outputs": [
    {
     "data": {
      "text/plain": [
       "tensor([[1., 1., 1., 0., 0.],\n",
       "        [1., 1., 1., 1., 0.],\n",
       "        [1., 1., 0., 0., 0.],\n",
       "        [1., 0., 0., 0., 0.],\n",
       "        [1., 1., 0., 0., 0.],\n",
       "        [1., 1., 1., 1., 1.]])"
      ]
     },
     "execution_count": 108,
     "metadata": {},
     "output_type": "execute_result"
    }
   ],
   "source": [
    "ordinal_labels(y, 5)"
   ]
  },
  {
   "cell_type": "code",
   "execution_count": 109,
   "metadata": {},
   "outputs": [
    {
     "data": {
      "text/plain": [
       "tensor([[9.5257e-01, 9.9331e-01, 7.3106e-01, 9.1105e-04, 2.4726e-03],\n",
       "        [9.9966e-01, 1.7986e-02, 4.7426e-02, 4.5398e-05, 4.7426e-02]])"
      ]
     },
     "execution_count": 109,
     "metadata": {},
     "output_type": "execute_result"
    }
   ],
   "source": [
    "torch.sigmoid(ord_out)"
   ]
  },
  {
   "cell_type": "code",
   "execution_count": 112,
   "metadata": {},
   "outputs": [],
   "source": [
    "y_pred_ord = torch.sum(torch.round(torch.sigmoid(ord_out)), dim=1, keepdim=True).squeeze(dim=1) -1 \n"
   ]
  },
  {
   "cell_type": "code",
   "execution_count": 113,
   "metadata": {},
   "outputs": [
    {
     "data": {
      "text/plain": [
       "tensor([2., 0.])"
      ]
     },
     "execution_count": 113,
     "metadata": {},
     "output_type": "execute_result"
    }
   ],
   "source": [
    "y_pred_ord"
   ]
  },
  {
   "cell_type": "code",
   "execution_count": 75,
   "metadata": {},
   "outputs": [
    {
     "name": "stdout",
     "output_type": "stream",
     "text": [
      "Original y_train: [0 1 1 0 0]\n",
      "Multilabel version: [2 2 1 0 0]\n"
     ]
    }
   ],
   "source": [
    "import numpy as np\n",
    "\n",
    "y_train = np.array([[0, 0, 1, 0, 0], [0, 1, 0, 0, 0]])\n",
    "y_train_multi = np.empty(y_train.shape, dtype=y_train.dtype)\n",
    "y_train_multi[:, 4] = y_train[:, 4]\n",
    "\n",
    "for i in range(3, -1, -1):\n",
    "    y_train_multi[:, i] = np.logical_or(y_train[:, i], y_train_multi[:, i+1])\n",
    "\n",
    "print(\"Original y_train:\", y_train.sum(axis=0))\n",
    "print(\"Multilabel version:\", y_train_multi.sum(axis=0))"
   ]
  },
  {
   "cell_type": "code",
   "execution_count": 76,
   "metadata": {},
   "outputs": [
    {
     "name": "stdout",
     "output_type": "stream",
     "text": [
      "Original y_train: [[0 0 1 0 0]\n",
      " [0 1 0 0 0]]\n",
      "Multilabel version: [[1 1 1 0 0]\n",
      " [1 1 0 0 0]]\n"
     ]
    }
   ],
   "source": [
    "print(\"Original y_train:\", y_train)\n",
    "print(\"Multilabel version:\", y_train_multi)"
   ]
  },
  {
   "cell_type": "code",
   "execution_count": null,
   "metadata": {},
   "outputs": [],
   "source": []
  }
 ],
 "metadata": {
  "kernelspec": {
   "display_name": "Python 3",
   "language": "python",
   "name": "python3"
  },
  "language_info": {
   "codemirror_mode": {
    "name": "ipython",
    "version": 3
   },
   "file_extension": ".py",
   "mimetype": "text/x-python",
   "name": "python",
   "nbconvert_exporter": "python",
   "pygments_lexer": "ipython3",
   "version": "3.11.9"
  }
 },
 "nbformat": 4,
 "nbformat_minor": 2
}
